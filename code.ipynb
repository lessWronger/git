{
 "cells": [
  {
   "cell_type": "code",
   "execution_count": null,
   "id": "f737a306",
   "metadata": {},
   "outputs": [],
   "source": [
    "/usr/src/app$ ^[[200~pwd^[[201~^[[200~pwd^[[201~/usr/src/app$ pw\n",
    "bash: pw: command not found\n",
    "/usr/src/app$ pwd\n",
    "/usr/src/app\n",
    "/usr/src/app$ cd code-user\n",
    "/usr/src/app/code-user$ echo \"Hello Hexlet!\" > hexlet.txt\n",
    "/usr/src/app/code-user$ git add hexlet.txt\n",
    "/usr/src/app/code-user$ git commit -m\n",
    "error: switch `m' requires a value\n",
    "/usr/src/app/code-user$ git commit -m \"Add hexlet.txt with greeting\"\n",
    "[main 27e5e42] Add hexlet.txt with greeting\n",
    " 1 file changed, 1 insertion(+)\n",
    " create mode 100644 hexlet.txt\n",
    "/usr/src/app/code-user$ echo \"<h1>Мама, я коммичу</h1>\" > index.txt\n",
    "/usr/src/app/code-user$ git add index.txt\n",
    "/usr/src/app/code-user$ git commit -mcd code-use\n",
    "error: pathspec 'code-use' did not match any file(s) known to git\n",
    "/usr/src/app/code-user$  echo \"<h1>Мама, я коммичу</h1>\" > index.html\n",
    "/usr/src/app/code-user$ git add index.html\n",
    "/usr/src/app/code-user$ git commit -m \"Add index.html with header\"\n",
    "[main b7e0909] Add index.html with header\n",
    " 2 files changed, 2 insertions(+)\n",
    " create mode 100644 index.html\n",
    " create mode 100644 index.txt\n",
    "/usr/src/app/code-user$ git ls-files\n",
    "README.md\n",
    "hexlet.txt\n",
    "index.html\n",
    "index.txt\n",
    "/usr/src/app/code-user$ make test\n",
    "make: *** No rule to make target 'test'.  Stop.\n",
    "/usr/src/app/code-user$ echo \"Hello, Hexlet!\" > hexlet.txt\n",
    "/usr/src/app/code-user$ git add hexlet.txt\n",
    "/usr/src/app/code-user$ git commit -m \"Add hexlet.txt with greeting\"\n",
    "[main bfc86c7] Add hexlet.txt with greeting\n",
    " 1 file changed, 1 insertion(+), 1 deletion(-)\n",
    "/usr/src/app/code-user$ "
   ]
  },
  {
   "cell_type": "code",
   "execution_count": null,
   "id": "92cb36b1",
   "metadata": {},
   "outputs": [],
   "source": []
  }
 ],
 "metadata": {
  "language_info": {
   "name": "python"
  }
 },
 "nbformat": 4,
 "nbformat_minor": 5
}
